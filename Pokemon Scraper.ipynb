{
 "cells": [
  {
   "cell_type": "code",
   "execution_count": 1,
   "metadata": {},
   "outputs": [],
   "source": [
    "from coveopush import CoveoPush\n",
    "from coveopush import Document\n",
    "from coveopush import CoveoPermissions\n",
    "from coveopush import CoveoConstants\n",
    "from bs4 import BeautifulSoup\n",
    "import requests\n",
    "import json\n",
    "from config import sourceId, orgId, apiKey\n"
   ]
  },
  {
   "cell_type": "code",
   "execution_count": 2,
   "metadata": {},
   "outputs": [],
   "source": [
    "# Push API Configs\n",
    "push = CoveoPush.Push(\n",
    "    p_SourceId=sourceId,\n",
    "    p_OrganizationId=orgId,\n",
    "    p_ApiKey=apiKey,\n",
    "    p_Endpoint=CoveoConstants.Constants.PushApiEndpoint.QA_PUSH_API_URL,\n",
    ")\n",
    "\n",
    "user_email = \"jmeng@coveo.com\"\n",
    "my_permissions = CoveoPermissions.PermissionIdentity(CoveoConstants.Constants.PermissionIdentityType.User, \"\", user_email)\n",
    "allowAnonymous = True"
   ]
  },
  {
   "cell_type": "code",
   "execution_count": 3,
   "metadata": {
    "tags": []
   },
   "outputs": [],
   "source": [
    "# SCRAPE PokemonDB\n",
    "def requestAndParse(URL):\n",
    "    page = requests.get(URL)\n",
    "    return BeautifulSoup(page.content,'html.parser')\n",
    "\n",
    "soup = requestAndParse(\"https://pokemondb.net/pokedex/national\")\n",
    "\n",
    "\n",
    "generations = soup.find_all('div', class_=\"infocard-list\")"
   ]
  },
  {
   "cell_type": "code",
   "execution_count": 4,
   "metadata": {
    "tags": []
   },
   "outputs": [],
   "source": [
    "def processGenerations():\n",
    "    print('processing gnerations')\n",
    "    processedData = []\n",
    "    for index, generation in enumerate(generations):\n",
    "        processedData.append(processGeneration(generation, index + 1))\n",
    "    return processedData\n",
    "\n",
    "def processGeneration(generationData, generationNumber):\n",
    "    infoCards = generationData.find_all('div', class_=\"infocard\")\n",
    "    return extractAllPokemonData(infoCards, generationNumber)"
   ]
  },
  {
   "cell_type": "code",
   "execution_count": 5,
   "metadata": {},
   "outputs": [],
   "source": [
    "def extractAllPokemonData(infoCards, generationNumber):\n",
    "    pokemonData = []\n",
    "    for pokemonCard in infoCards:\n",
    "        pokemonData.append(extractDataFromCard(pokemonCard, generationNumber))\n",
    "    print(pokemonData)\n",
    "    return pokemonData"
   ]
  },
  {
   "cell_type": "code",
   "execution_count": 6,
   "metadata": {},
   "outputs": [],
   "source": [
    "def getWeightAndDescription(pokemonURL):\n",
    "    print('here')\n",
    "    infoPage =requestAndParse(pokemonURL)\n",
    "    weightElement = infoPage.find(\"th\",text=\"Weight\").find_next_sibling(\"td\").text\n",
    "    pokemonWeight = weightElement.split()[0]\n",
    "    description = infoPage.find(\"h2\", text=\"Pokédex entries\").find_next_sibling(\"div\").find(\"td\").text\n",
    "    return {\n",
    "        \"pokemonweight\":pokemonWeight,\n",
    "        \"pokemondescription\": description\n",
    "    }"
   ]
  },
  {
   "cell_type": "code",
   "execution_count": 7,
   "metadata": {},
   "outputs": [],
   "source": [
    "def extractDataFromCard(infoCard, generationNumber):\n",
    "    pokemonName = infoCard.find('a',class_=\"ent-name\").text\n",
    "    pokemonURLExtension = infoCard.find('a',class_=\"ent-name\").get(\"href\")\n",
    "    pokemonURL = \"https://pokemondb.net\" + pokemonURLExtension\n",
    "    pictureURL = infoCard.find('span', class_=\"img-fixed\").get(\"data-src\")\n",
    "    weightAndDescription = getWeightAndDescription(pokemonURL)\n",
    "    pokemonNumber = infoCard.find('small').text[1:]\n",
    "    pokemonTypes = []\n",
    "    for pokemonType in infoCard.find_all('a',class_='itype'):\n",
    "        typeText = pokemonType.text\n",
    "        pokemonTypes.append(typeText)\n",
    "    return {\n",
    "        \"name\": pokemonName,\n",
    "        \"type\": pokemonTypes,\n",
    "        \"generation\": generationNumber,\n",
    "        \"pictureURL\": pictureURL,\n",
    "        \"pokemonURL\": pokemonURL,\n",
    "        \"pokemonNumber\": pokemonNumber,\n",
    "        \"pokemonweight\": weightAndDescription[\"pokemonweight\"],\n",
    "        \"pokemondescription\": weightAndDescription[\"pokemondescription\"]\n",
    "    }"
   ]
  },
  {
   "cell_type": "code",
   "execution_count": 8,
   "metadata": {},
   "outputs": [],
   "source": [
    "def pushData(generationData):\n",
    "    count = 0\n",
    "    for generation in generationData:\n",
    "        for pokemon in generation:\n",
    "            # if count < 5:\n",
    "            print(pokemon)\n",
    "            pokemonName = pokemon[\"name\"]\n",
    "            mydoc = Document(f\"file://folder/pokemon/{pokemonName}\")\n",
    "            mydoc.FileExtension = \".html\"\n",
    "            mydoc.Title = pokemonName\n",
    "            mydoc.AddMetadata(\"connectortype\", \"CSV\")\n",
    "            mydoc.SetData(pokemonName)\n",
    "            mydoc.AddMetadata(\"type\", pokemon[\"type\"])\n",
    "            mydoc.AddMetadata(\"generation\", pokemon[\"generation\"])\n",
    "            mydoc.AddMetadata(\"pictureurl\", pokemon[\"pictureURL\"])\n",
    "            mydoc.AddMetadata(\"pokemonurl\", pokemon[\"pokemonURL\"])\n",
    "            mydoc.AddMetadata(\"pokemonnumber\", pokemon[\"pokemonNumber\"])\n",
    "            mydoc.AddMetadata(\"pokemonweight\", pokemon[\"pokemonweight\"])\n",
    "            mydoc.AddMetadata(\"pokemondescription\", pokemon[\"pokemondescription\"])\n",
    "            mydoc.SetAllowedAndDeniedPermissions([my_permissions], [], allowAnonymous)\n",
    "            push.Add(mydoc)\n",
    "                # count += 1"
   ]
  },
  {
   "cell_type": "code",
   "execution_count": null,
   "metadata": {
    "tags": []
   },
   "outputs": [],
   "source": [
    "extractedData = processGenerations()\n",
    "push.Start(True, True)\n",
    "push.SetSizeMaxRequest(150*1024*1024)\n",
    "pushData(extractedData)\n",
    "push.End(True, True)"
   ]
  },
  {
   "cell_type": "code",
   "execution_count": null,
   "metadata": {},
   "outputs": [],
   "source": []
  }
 ],
 "metadata": {
  "kernelspec": {
   "name": "Python 3.8.2 64-bit",
   "display_name": "Python 3.8.2 64-bit",
   "metadata": {
    "interpreter": {
     "hash": "5edc29c2ed010d6458d71a83433b383a96a8cbd3efe8531bc90c4b8a5b8bcec9"
    }
   }
  },
  "language_info": {
   "codemirror_mode": {
    "name": "ipython",
    "version": 3
   },
   "file_extension": ".py",
   "mimetype": "text/x-python",
   "name": "python",
   "nbconvert_exporter": "python",
   "pygments_lexer": "ipython3",
   "version": "3.8.2-final"
  }
 },
 "nbformat": 4,
 "nbformat_minor": 4
}