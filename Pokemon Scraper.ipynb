{
 "cells": [
  {
   "cell_type": "code",
   "execution_count": 1,
   "metadata": {},
   "outputs": [],
   "source": [
    "from coveopush import CoveoPush\n",
    "from coveopush import Document\n",
    "from coveopush import CoveoPermissions\n",
    "from coveopush import CoveoConstants\n",
    "from bs4 import BeautifulSoup\n",
    "import requests\n",
    "import json\n",
    "from config import sourceId, orgId, apiKey\n"
   ]
  },
  {
   "cell_type": "code",
   "execution_count": 2,
   "metadata": {},
   "outputs": [],
   "source": [
    "# Push API Configs\n",
    "push = CoveoPush.Push(\n",
    "    p_SourceId=sourceId,\n",
    "    p_OrganizationId=orgId,\n",
    "    p_ApiKey=apiKey,\n",
    "    p_Endpoint=CoveoConstants.Constants.PushApiEndpoint.QA_PUSH_API_URL,\n",
    ")\n",
    "\n",
    "user_email = \"jmeng@coveo.com\"\n",
    "my_permissions = CoveoPermissions.PermissionIdentity(CoveoConstants.Constants.PermissionIdentityType.User, \"\", user_email)\n",
    "allowAnonymous = True"
   ]
  },
  {
   "cell_type": "code",
   "execution_count": 3,
   "metadata": {
    "tags": []
   },
   "outputs": [],
   "source": [
    "# SCRAPE PokemonDB\n",
    "def requestAndParse(URL):\n",
    "    page = requests.get(URL)\n",
    "    return BeautifulSoup(page.content,'html.parser')\n",
    "\n",
    "soup = requestAndParse(\"https://pokemondb.net/pokedex/national\")\n",
    "\n",
    "\n",
    "generations = soup.find_all('div', class_=\"infocard-list\")"
   ]
  },
  {
   "cell_type": "code",
   "execution_count": 4,
   "metadata": {
    "tags": []
   },
   "outputs": [],
   "source": [
    "def processGenerations():\n",
    "    print('processing gnerations')\n",
    "    processedData = []\n",
    "    for index, generation in enumerate(generations):\n",
    "        processedData.append(processGeneration(generation, index + 1))\n",
    "    return processedData\n",
    "\n",
    "def processGeneration(generationData, generationNumber):\n",
    "    infoCards = generationData.find_all('div', class_=\"infocard\")\n",
    "    return extractAllPokemonData(infoCards, generationNumber)"
   ]
  },
  {
   "cell_type": "code",
   "execution_count": 5,
   "metadata": {},
   "outputs": [],
   "source": [
    "def extractAllPokemonData(infoCards, generationNumber):\n",
    "    pokemonData = []\n",
    "    for pokemonCard in infoCards:\n",
    "        pokemonData.append(extractDataFromCard(pokemonCard, generationNumber))\n",
    "    print(pokemonData)\n",
    "    return pokemonData"
   ]
  },
  {
   "cell_type": "code",
   "execution_count": 6,
   "metadata": {},
   "outputs": [],
   "source": [
    "def getWeightAndDescription(pokemonURL):\n",
    "    print('here')\n",
    "    infoPage =requestAndParse(pokemonURL)\n",
    "    weightElement = infoPage.find(\"th\",text=\"Weight\").find_next_sibling(\"td\").text\n",
    "    pokemonWeight = weightElement.split()[0]\n",
    "    description = infoPage.find(\"h2\", text=\"Pokédex entries\").find_next_sibling(\"div\").find(\"td\").text\n",
    "    return {\n",
    "        \"pokemonweight\":pokemonWeight,\n",
    "        \"pokemondescription\": description\n",
    "    }"
   ]
  },
  {
   "cell_type": "code",
   "execution_count": 7,
   "metadata": {},
   "outputs": [],
   "source": [
    "def extractDataFromCard(infoCard, generationNumber):\n",
    "    pokemonName = infoCard.find('a',class_=\"ent-name\").text\n",
    "    pokemonURLExtension = infoCard.find('a',class_=\"ent-name\").get(\"href\")\n",
    "    pokemonURL = \"https://pokemondb.net\" + pokemonURLExtension\n",
    "    pictureURL = infoCard.find('span', class_=\"img-fixed\").get(\"data-src\")\n",
    "    weightAndDescription = getWeightAndDescription(pokemonURL)\n",
    "    pokemonNumber = infoCard.find('small').text[1:]\n",
    "    pokemonTypes = []\n",
    "    for pokemonType in infoCard.find_all('a',class_='itype'):\n",
    "        typeText = pokemonType.text\n",
    "        pokemonTypes.append(typeText)\n",
    "    return {\n",
    "        \"name\": pokemonName,\n",
    "        \"type\": pokemonTypes,\n",
    "        \"generation\": generationNumber,\n",
    "        \"pictureURL\": pictureURL,\n",
    "        \"pokemonURL\": pokemonURL,\n",
    "        \"pokemonNumber\": pokemonNumber,\n",
    "        \"pokemonweight\": weightAndDescription[\"pokemonweight\"],\n",
    "        \"pokemondescription\": weightAndDescription[\"pokemondescription\"]\n",
    "    }"
   ]
  },
  {
   "cell_type": "code",
   "execution_count": 8,
   "metadata": {},
   "outputs": [],
   "source": [
    "def pushData(generationData):\n",
    "    count = 0\n",
    "    for generation in generationData:\n",
    "        for pokemon in generation:\n",
    "            # if count < 5:\n",
    "            print(pokemon)\n",
    "            pokemonName = pokemon[\"name\"]\n",
    "            mydoc = Document(f\"file://folder/pokemon/{pokemonName}\")\n",
    "            mydoc.FileExtension = \".html\"\n",
    "            mydoc.Title = pokemonName\n",
    "            mydoc.AddMetadata(\"connectortype\", \"CSV\")\n",
    "            mydoc.SetData(pokemon[\"pokemondescription\"])\n",
    "            mydoc.AddMetadata(\"type\", pokemon[\"type\"])\n",
    "            mydoc.AddMetadata(\"generation\", pokemon[\"generation\"])\n",
    "            mydoc.AddMetadata(\"pictureurl\", pokemon[\"pictureURL\"])\n",
    "            mydoc.AddMetadata(\"pokemonurl\", pokemon[\"pokemonURL\"])\n",
    "            mydoc.AddMetadata(\"pokemonnumber\", pokemon[\"pokemonNumber\"])\n",
    "            mydoc.AddMetadata(\"pokemonweight\", pokemon[\"pokemonweight\"])\n",
    "            mydoc.AddMetadata(\"pokemondescription\", pokemon[\"pokemondescription\"])\n",
    "            mydoc.SetAllowedAndDeniedPermissions([my_permissions], [], allowAnonymous)\n",
    "            push.Add(mydoc)\n",
    "                # count += 1"
   ]
  },
  {
   "cell_type": "code",
   "execution_count": 9,
   "metadata": {
    "tags": [
     "outputPrepend"
    ]
   },
   "outputs": [
    {
     "output_type": "stream",
     "name": "stdout",
     "text": [
      "unds of sand sprays from its nose. If it ever runs out of sand, it becomes disheartened.'}, {'name': 'Cramorant', 'type': ['Flying', 'Water'], 'generation': 8, 'pictureURL': 'https://img.pokemondb.net/sprites/sword-shield/pixel/cramorant.png', 'pokemonURL': 'https://pokemondb.net/pokedex/cramorant', 'pokemonNumber': '845', 'pokemonweight': '18.0', 'pokemondescription': 'It’s so strong that it can knock out some opponents in a single hit, but it also may forget what it’s battling midfight.'}, {'name': 'Arrokuda', 'type': ['Water'], 'generation': 8, 'pictureURL': 'https://img.pokemondb.net/sprites/sword-shield/pixel/arrokuda.png', 'pokemonURL': 'https://pokemondb.net/pokedex/arrokuda', 'pokemonNumber': '846', 'pokemonweight': '1.0', 'pokemondescription': 'If it sees any movement around it, this Pokémon charges for it straightaway, leading with its sharply pointed jaw. It’s very proud of that jaw.'}, {'name': 'Barraskewda', 'type': ['Water'], 'generation': 8, 'pictureURL': 'https://img.pokemondb.net/sprites/sword-shield/pixel/barraskewda.png', 'pokemonURL': 'https://pokemondb.net/pokedex/barraskewda', 'pokemonNumber': '847', 'pokemonweight': '30.0', 'pokemondescription': 'This Pokémon has a jaw that’s as sharp as a spear and as strong as steel. Apparently Barraskewda’s flesh is surprisingly tasty, too.'}, {'name': 'Toxel', 'type': ['Electric', 'Poison'], 'generation': 8, 'pictureURL': 'https://img.pokemondb.net/sprites/sword-shield/pixel/toxel.png', 'pokemonURL': 'https://pokemondb.net/pokedex/toxel', 'pokemonNumber': '848', 'pokemonweight': '11.0', 'pokemondescription': 'It stores poison in an internal poison sac and secretes that poison through its skin. If you touch this Pokémon, a tingling sensation follows.'}, {'name': 'Toxtricity', 'type': ['Electric', 'Poison'], 'generation': 8, 'pictureURL': 'https://img.pokemondb.net/sprites/sword-shield/pixel/toxtricity-low-key.png', 'pokemonURL': 'https://pokemondb.net/pokedex/toxtricity', 'pokemonNumber': '849', 'pokemonweight': '40.0', 'pokemondescription': 'Capable of generating 15,000 volts of electricity, this Pokémon looks down on all that would challenge it.'}, {'name': 'Sizzlipede', 'type': ['Fire', 'Bug'], 'generation': 8, 'pictureURL': 'https://img.pokemondb.net/sprites/sword-shield/pixel/sizzlipede.png', 'pokemonURL': 'https://pokemondb.net/pokedex/sizzlipede', 'pokemonNumber': '850', 'pokemonweight': '1.0', 'pokemondescription': 'It stores flammable gas in its body and uses it to generate heat. The yellow sections on its belly get particularly hot.'}, {'name': 'Centiskorch', 'type': ['Fire', 'Bug'], 'generation': 8, 'pictureURL': 'https://img.pokemondb.net/sprites/sword-shield/pixel/centiskorch.png', 'pokemonURL': 'https://pokemondb.net/pokedex/centiskorch', 'pokemonNumber': '851', 'pokemonweight': '120.0', 'pokemondescription': 'When it heats up, its body temperature reaches about 1,500 degrees Fahrenheit. It lashes its body like a whip and launches itself at enemies.'}, {'name': 'Clobbopus', 'type': ['Fighting'], 'generation': 8, 'pictureURL': 'https://img.pokemondb.net/sprites/sword-shield/pixel/clobbopus.png', 'pokemonURL': 'https://pokemondb.net/pokedex/clobbopus', 'pokemonNumber': '852', 'pokemonweight': '4.0', 'pokemondescription': 'It’s very curious, but its means of investigating things is to try to punch them with its tentacles. The search for food is what brings it onto land.'}, {'name': 'Grapploct', 'type': ['Fighting'], 'generation': 8, 'pictureURL': 'https://img.pokemondb.net/sprites/sword-shield/pixel/grapploct.png', 'pokemonURL': 'https://pokemondb.net/pokedex/grapploct', 'pokemonNumber': '853', 'pokemonweight': '39.0', 'pokemondescription': 'A body made up of nothing but muscle makes the grappling moves this Pokémon performs with its tentacles tremendously powerful.'}, {'name': 'Sinistea', 'type': ['Ghost'], 'generation': 8, 'pictureURL': 'https://img.pokemondb.net/sprites/sword-shield/pixel/sinistea.png', 'pokemonURL': 'https://pokemondb.net/pokedex/sinistea', 'pokemonNumber': '854', 'pokemonweight': '0.2', 'pokemondescription': 'The swirl pattern in this Pokémon’s body is its weakness. If it gets stirred, the swirl loses its shape, and Sinistea gets dizzy.'}, {'name': 'Polteageist', 'type': ['Ghost'], 'generation': 8, 'pictureURL': 'https://img.pokemondb.net/sprites/sword-shield/pixel/polteageist.png', 'pokemonURL': 'https://pokemondb.net/pokedex/polteageist', 'pokemonNumber': '855', 'pokemonweight': '0.4', 'pokemondescription': 'Trainers Polteageist trusts will be allowed to experience its distinctive flavor and aroma firsthand by sampling just a tiny bit of its tea.'}, {'name': 'Hatenna', 'type': ['Psychic'], 'generation': 8, 'pictureURL': 'https://img.pokemondb.net/sprites/sword-shield/pixel/hatenna.png', 'pokemonURL': 'https://pokemondb.net/pokedex/hatenna', 'pokemonNumber': '856', 'pokemonweight': '3.4', 'pokemondescription': 'Via the protrusion on its head, it senses other creatures’ emotions. If you don’t have a calm disposition, it will never warm up to you.'}, {'name': 'Hattrem', 'type': ['Psychic'], 'generation': 8, 'pictureURL': 'https://img.pokemondb.net/sprites/sword-shield/pixel/hattrem.png', 'pokemonURL': 'https://pokemondb.net/pokedex/hattrem', 'pokemonNumber': '857', 'pokemonweight': '4.8', 'pokemondescription': 'No matter who you are, if you bring strong emotions near this Pokémon, it will silence you violently.'}, {'name': 'Hatterene', 'type': ['Psychic', 'Fairy'], 'generation': 8, 'pictureURL': 'https://img.pokemondb.net/sprites/sword-shield/pixel/hatterene.png', 'pokemonURL': 'https://pokemondb.net/pokedex/hatterene', 'pokemonNumber': '858', 'pokemonweight': '5.0', 'pokemondescription': 'It emits psychic power strong enough to cause headaches as a deterrent to the approach of others.'}, {'name': 'Impidimp', 'type': ['Dark', 'Fairy'], 'generation': 8, 'pictureURL': 'https://img.pokemondb.net/sprites/sword-shield/pixel/impidimp.png', 'pokemonURL': 'https://pokemondb.net/pokedex/impidimp', 'pokemonNumber': '859', 'pokemonweight': '5.5', 'pokemondescription': 'Through its nose, it sucks in the emanations produced by people and Pokémon when they feel annoyed. It thrives off this negative energy.'}, {'name': 'Morgrem', 'type': ['Dark', 'Fairy'], 'generation': 8, 'pictureURL': 'https://img.pokemondb.net/sprites/sword-shield/pixel/morgrem.png', 'pokemonURL': 'https://pokemondb.net/pokedex/morgrem', 'pokemonNumber': '860', 'pokemonweight': '12.5', 'pokemondescription': 'When it gets down on all fours as if to beg for forgiveness, it’s trying to lure opponents in so that it can stab them with its spear-like hair.'}, {'name': 'Grimmsnarl', 'type': ['Dark', 'Fairy'], 'generation': 8, 'pictureURL': 'https://img.pokemondb.net/sprites/sword-shield/pixel/grimmsnarl.png', 'pokemonURL': 'https://pokemondb.net/pokedex/grimmsnarl', 'pokemonNumber': '861', 'pokemonweight': '61.0', 'pokemondescription': 'With the hair wrapped around its body helping to enhance its muscles, this Pokémon can overwhelm even Machamp.'}, {'name': 'Obstagoon', 'type': ['Dark', 'Normal'], 'generation': 8, 'pictureURL': 'https://img.pokemondb.net/sprites/sword-shield/pixel/obstagoon.png', 'pokemonURL': 'https://pokemondb.net/pokedex/obstagoon', 'pokemonNumber': '862', 'pokemonweight': '46.0', 'pokemondescription': 'Its voice is staggering in volume. Obstagoon has a tendency to take on a threatening posture and shout—this move is known as Obstruct.'}, {'name': 'Perrserker', 'type': ['Steel'], 'generation': 8, 'pictureURL': 'https://img.pokemondb.net/sprites/sword-shield/pixel/perrserker.png', 'pokemonURL': 'https://pokemondb.net/pokedex/perrserker', 'pokemonNumber': '863', 'pokemonweight': '28.0', 'pokemondescription': 'What appears to be an iron helmet is actually hardened hair. This Pokémon lives for the thrill of battle.'}, {'name': 'Cursola', 'type': ['Ghost'], 'generation': 8, 'pictureURL': 'https://img.pokemondb.net/sprites/sword-shield/pixel/cursola.png', 'pokemonURL': 'https://pokemondb.net/pokedex/cursola', 'pokemonNumber': '864', 'pokemonweight': '0.4', 'pokemondescription': 'Its shell is overflowing with its heightened otherworldly energy. The ectoplasm serves as protection for this Pokémon’s core spirit.'}, {'name': \"Sirfetch'd\", 'type': ['Fighting'], 'generation': 8, 'pictureURL': 'https://img.pokemondb.net/sprites/sword-shield/pixel/sirfetchd.png', 'pokemonURL': 'https://pokemondb.net/pokedex/sirfetchd', 'pokemonNumber': '865', 'pokemonweight': '117.0', 'pokemondescription': 'Only Farfetch’d that have survived many battles can attain this evolution. When this Pokémon’s leek withers, it will retire from combat.'}, {'name': 'Mr. Rime', 'type': ['Psychic', 'Ice'], 'generation': 8, 'pictureURL': 'https://img.pokemondb.net/sprites/sword-shield/pixel/mr-rime.png', 'pokemonURL': 'https://pokemondb.net/pokedex/mr-rime', 'pokemonNumber': '866', 'pokemonweight': '58.2', 'pokemondescription': 'It’s highly skilled at tap-dancing. It waves its cane of ice in time with its graceful movements.'}, {'name': 'Runerigus', 'type': ['Ground', 'Ghost'], 'generation': 8, 'pictureURL': 'https://img.pokemondb.net/sprites/sword-shield/pixel/runerigus.png', 'pokemonURL': 'https://pokemondb.net/pokedex/runerigus', 'pokemonNumber': '867', 'pokemonweight': '66.6', 'pokemondescription': 'A powerful curse was woven into an ancient painting. After absorbing the spirit of a Yamask, the painting began to move.'}, {'name': 'Milcery', 'type': ['Fairy'], 'generation': 8, 'pictureURL': 'https://img.pokemondb.net/sprites/sword-shield/pixel/milcery.png', 'pokemonURL': 'https://pokemondb.net/pokedex/milcery', 'pokemonNumber': '868', 'pokemonweight': '0.3', 'pokemondescription': 'This Pokémon was born from sweet-smelling particles in the air. Its body is made of cream.'}, {'name': 'Alcremie', 'type': ['Fairy'], 'generation': 8, 'pictureURL': 'https://img.pokemondb.net/sprites/sword-shield/pixel/alcremie.png', 'pokemonURL': 'https://pokemondb.net/pokedex/alcremie', 'pokemonNumber': '869', 'pokemonweight': '0.5', 'pokemondescription': 'The moment it evolved, it took on a bitter flavor. This is because of the way its cells spontaneously shifted during evolution.'}, {'name': 'Falinks', 'type': ['Fighting'], 'generation': 8, 'pictureURL': 'https://img.pokemondb.net/sprites/sword-shield/pixel/falinks.png', 'pokemonURL': 'https://pokemondb.net/pokedex/falinks', 'pokemonNumber': '870', 'pokemonweight': '62.0', 'pokemondescription': 'Five of them are troopers, and one is the brass. The brass’s orders are absolute.'}, {'name': 'Pincurchin', 'type': ['Electric'], 'generation': 8, 'pictureURL': 'https://img.pokemondb.net/sprites/sword-shield/pixel/pincurchin.png', 'pokemonURL': 'https://pokemondb.net/pokedex/pincurchin', 'pokemonNumber': '871', 'pokemonweight': '1.0', 'pokemondescription': 'It feeds on seaweed, using its teeth to scrape it off rocks. Electric current flows from the tips of its spines.'}, {'name': 'Snom', 'type': ['Ice', 'Bug'], 'generation': 8, 'pictureURL': 'https://img.pokemondb.net/sprites/sword-shield/pixel/snom.png', 'pokemonURL': 'https://pokemondb.net/pokedex/snom', 'pokemonNumber': '872', 'pokemonweight': '3.8', 'pokemondescription': 'It spits out thread imbued with a frigid sort of energy and uses it to tie its body to branches, disguising itself as an icicle while it sleeps.'}, {'name': 'Frosmoth', 'type': ['Ice', 'Bug'], 'generation': 8, 'pictureURL': 'https://img.pokemondb.net/sprites/sword-shield/pixel/frosmoth.png', 'pokemonURL': 'https://pokemondb.net/pokedex/frosmoth', 'pokemonNumber': '873', 'pokemonweight': '42.0', 'pokemondescription': 'Icy scales fall from its wings like snow as it flies over fields and mountains. The temperature of its wings is less than −290 degrees Fahrenheit.'}, {'name': 'Stonjourner', 'type': ['Rock'], 'generation': 8, 'pictureURL': 'https://img.pokemondb.net/sprites/sword-shield/pixel/stonjourner.png', 'pokemonURL': 'https://pokemondb.net/pokedex/stonjourner', 'pokemonNumber': '874', 'pokemonweight': '520.0', 'pokemondescription': 'It stands in grasslands, watching the sun’s descent from zenith to horizon. This Pokémon has a talent for delivering dynamic kicks.'}, {'name': 'Eiscue', 'type': ['Ice'], 'generation': 8, 'pictureURL': 'https://img.pokemondb.net/sprites/sword-shield/pixel/eiscue-ice.png', 'pokemonURL': 'https://pokemondb.net/pokedex/eiscue', 'pokemonNumber': '875', 'pokemonweight': '89.0', 'pokemondescription': 'It drifted in on the flow of ocean waters from a frigid place. It keeps its head iced constantly to make sure it stays nice and cold.'}, {'name': 'Indeedee', 'type': ['Psychic', 'Normal'], 'generation': 8, 'pictureURL': 'https://img.pokemondb.net/sprites/sword-shield/pixel/indeedee-male.png', 'pokemonURL': 'https://pokemondb.net/pokedex/indeedee', 'pokemonNumber': '876', 'pokemonweight': '28.0', 'pokemondescription': 'It uses the horns on its head to sense the emotions of others. Males will act as valets for those they serve, looking after their every need.'}, {'name': 'Morpeko', 'type': ['Electric', 'Dark'], 'generation': 8, 'pictureURL': 'https://img.pokemondb.net/sprites/sword-shield/pixel/morpeko-full-belly.png', 'pokemonURL': 'https://pokemondb.net/pokedex/morpeko', 'pokemonNumber': '877', 'pokemonweight': '3.0', 'pokemondescription': 'As it eats the seeds stored up in its pocket-like pouches, this Pokémon is not just satisfying its constant hunger. It’s also generating electricity.'}, {'name': 'Cufant', 'type': ['Steel'], 'generation': 8, 'pictureURL': 'https://img.pokemondb.net/sprites/sword-shield/pixel/cufant.png', 'pokemonURL': 'https://pokemondb.net/pokedex/cufant', 'pokemonNumber': '878', 'pokemonweight': '100.0', 'pokemondescription': 'It digs up the ground with its trunk. It’s also very strong, being able to carry loads of over five tons without any problem at all.'}, {'name': 'Copperajah', 'type': ['Steel'], 'generation': 8, 'pictureURL': 'https://img.pokemondb.net/sprites/sword-shield/pixel/copperajah.png', 'pokemonURL': 'https://pokemondb.net/pokedex/copperajah', 'pokemonNumber': '879', 'pokemonweight': '650.0', 'pokemondescription': 'They came over from another region long ago and worked together with humans. Their green skin is resistant to water.'}, {'name': 'Dracozolt', 'type': ['Electric', 'Dragon'], 'generation': 8, 'pictureURL': 'https://img.pokemondb.net/sprites/sword-shield/pixel/dracozolt.png', 'pokemonURL': 'https://pokemondb.net/pokedex/dracozolt', 'pokemonNumber': '880', 'pokemonweight': '190.0', 'pokemondescription': 'In ancient times, it was unbeatable thanks to its powerful lower body, but it went extinct anyway after it depleted all its plant-based food sources.'}, {'name': 'Arctozolt', 'type': ['Electric', 'Ice'], 'generation': 8, 'pictureURL': 'https://img.pokemondb.net/sprites/sword-shield/pixel/arctozolt.png', 'pokemonURL': 'https://pokemondb.net/pokedex/arctozolt', 'pokemonNumber': '881', 'pokemonweight': '150.0', 'pokemondescription': 'The shaking of its freezing upper half is what generates its electricity. It has a hard time walking around.'}, {'name': 'Dracovish', 'type': ['Water', 'Dragon'], 'generation': 8, 'pictureURL': 'https://img.pokemondb.net/sprites/sword-shield/pixel/dracovish.png', 'pokemonURL': 'https://pokemondb.net/pokedex/dracovish', 'pokemonNumber': '882', 'pokemonweight': '215.0', 'pokemondescription': 'Powerful legs and jaws made it the apex predator of its time. Its own overhunting of its prey was what drove it to extinction.'}, {'name': 'Arctovish', 'type': ['Water', 'Ice'], 'generation': 8, 'pictureURL': 'https://img.pokemondb.net/sprites/sword-shield/pixel/arctovish.png', 'pokemonURL': 'https://pokemondb.net/pokedex/arctovish', 'pokemonNumber': '883', 'pokemonweight': '175.0', 'pokemondescription': 'Though it’s able to capture prey by freezing its surroundings, it has trouble eating the prey afterward because its mouth is on top of its head.'}, {'name': 'Duraludon', 'type': ['Steel', 'Dragon'], 'generation': 8, 'pictureURL': 'https://img.pokemondb.net/sprites/sword-shield/pixel/duraludon.png', 'pokemonURL': 'https://pokemondb.net/pokedex/duraludon', 'pokemonNumber': '884', 'pokemonweight': '40.0', 'pokemondescription': 'Its body resembles polished metal, and it’s both lightweight and strong. The only drawback is that it rusts easily.'}, {'name': 'Dreepy', 'type': ['Dragon', 'Ghost'], 'generation': 8, 'pictureURL': 'https://img.pokemondb.net/sprites/sword-shield/pixel/dreepy.png', 'pokemonURL': 'https://pokemondb.net/pokedex/dreepy', 'pokemonNumber': '885', 'pokemonweight': '2.0', 'pokemondescription': 'After being reborn as a ghost Pokémon, Dreepy wanders the areas it used to inhabit back when it was alive in prehistoric seas.'}, {'name': 'Drakloak', 'type': ['Dragon', 'Ghost'], 'generation': 8, 'pictureURL': 'https://img.pokemondb.net/sprites/sword-shield/pixel/drakloak.png', 'pokemonURL': 'https://pokemondb.net/pokedex/drakloak', 'pokemonNumber': '886', 'pokemonweight': '11.0', 'pokemondescription': 'It’s capable of flying faster than 120 mph. It battles alongside Dreepy and dotes on them until they successfully evolve.'}, {'name': 'Dragapult', 'type': ['Dragon', 'Ghost'], 'generation': 8, 'pictureURL': 'https://img.pokemondb.net/sprites/sword-shield/pixel/dragapult.png', 'pokemonURL': 'https://pokemondb.net/pokedex/dragapult', 'pokemonNumber': '887', 'pokemonweight': '50.0', 'pokemondescription': 'When it isn’t battling, it keeps Dreepy in the holes on its horns. Once a fight starts, it launches the Dreepy like supersonic missiles.'}, {'name': 'Zacian', 'type': ['Fairy', 'Steel'], 'generation': 8, 'pictureURL': 'https://img.pokemondb.net/sprites/sword-shield/pixel/zacian-crowned.png', 'pokemonURL': 'https://pokemondb.net/pokedex/zacian', 'pokemonNumber': '888', 'pokemonweight': '355.0', 'pokemondescription': 'Now armed with a weapon it used in ancient times, this Pokémon needs only a single strike to fell even Gigantamax Pokémon.'}, {'name': 'Zamazenta', 'type': ['Fighting', 'Steel'], 'generation': 8, 'pictureURL': 'https://img.pokemondb.net/sprites/sword-shield/pixel/zamazenta-crowned.png', 'pokemonURL': 'https://pokemondb.net/pokedex/zamazenta', 'pokemonNumber': '889', 'pokemonweight': '785.0', 'pokemondescription': 'Its ability to deflect any attack led to it being known as the Fighting Master’s Shield. It was feared and respected by all.'}, {'name': 'Eternatus', 'type': ['Poison', 'Dragon'], 'generation': 8, 'pictureURL': 'https://img.pokemondb.net/sprites/sword-shield/pixel/eternatus.png', 'pokemonURL': 'https://pokemondb.net/pokedex/eternatus', 'pokemonNumber': '890', 'pokemonweight': '950.0', 'pokemondescription': 'The core on its chest absorbs energy emanating from the lands of the Galar region. This energy is what allows Eternatus to stay active.'}, {'name': 'Kubfu', 'type': ['Fighting'], 'generation': 8, 'pictureURL': 'https://img.pokemondb.net/sprites/sword-shield/pixel/kubfu.png', 'pokemonURL': 'https://pokemondb.net/pokedex/kubfu', 'pokemonNumber': '891', 'pokemonweight': '12.0', 'pokemondescription': 'Kubfu trains hard to perfect its moves. The moves it masters will determine which form it takes when it evolves.'}, {'name': 'Urshifu', 'type': ['Fighting', 'Dark'], 'generation': 8, 'pictureURL': 'https://img.pokemondb.net/sprites/sword-shield/pixel/urshifu-single-strike.png', 'pokemonURL': 'https://pokemondb.net/pokedex/urshifu', 'pokemonNumber': '892', 'pokemonweight': '105.0', 'pokemondescription': 'People call it the embodiment of rage. It’s said that this Pokémon’s terrifying expression and shout will rid the world of malevolence.'}, {'name': 'Zarude', 'type': ['Dark', 'Grass'], 'generation': 8, 'pictureURL': 'https://img.pokemondb.net/sprites/sword-shield/pixel/zarude.png', 'pokemonURL': 'https://pokemondb.net/pokedex/zarude', 'pokemonNumber': '893', 'pokemonweight': '70.0', 'pokemondescription': 'Within dense forests, this Pokémon lives in a pack with others of its kind. It’s incredibly aggressive, and the other Pokémon of the forest fear it.'}]\n"
     ]
    }
   ],
   "source": [
    "extractedData = processGenerations()\n"
   ]
  },
  {
   "cell_type": "code",
   "execution_count": 10,
   "metadata": {
    "tags": [
     "outputPrepend"
    ]
   },
   "outputs": [
    {
     "output_type": "stream",
     "name": "stdout",
     "text": [
      "ription': 'When it contracts its body, over 220 pounds of sand sprays from its nose. If it ever runs out of sand, it becomes disheartened.'}\n",
      "{'name': 'Cramorant', 'type': ['Flying', 'Water'], 'generation': 8, 'pictureURL': 'https://img.pokemondb.net/sprites/sword-shield/pixel/cramorant.png', 'pokemonURL': 'https://pokemondb.net/pokedex/cramorant', 'pokemonNumber': '845', 'pokemonweight': '18.0', 'pokemondescription': 'It’s so strong that it can knock out some opponents in a single hit, but it also may forget what it’s battling midfight.'}\n",
      "{'name': 'Arrokuda', 'type': ['Water'], 'generation': 8, 'pictureURL': 'https://img.pokemondb.net/sprites/sword-shield/pixel/arrokuda.png', 'pokemonURL': 'https://pokemondb.net/pokedex/arrokuda', 'pokemonNumber': '846', 'pokemonweight': '1.0', 'pokemondescription': 'If it sees any movement around it, this Pokémon charges for it straightaway, leading with its sharply pointed jaw. It’s very proud of that jaw.'}\n",
      "{'name': 'Barraskewda', 'type': ['Water'], 'generation': 8, 'pictureURL': 'https://img.pokemondb.net/sprites/sword-shield/pixel/barraskewda.png', 'pokemonURL': 'https://pokemondb.net/pokedex/barraskewda', 'pokemonNumber': '847', 'pokemonweight': '30.0', 'pokemondescription': 'This Pokémon has a jaw that’s as sharp as a spear and as strong as steel. Apparently Barraskewda’s flesh is surprisingly tasty, too.'}\n",
      "{'name': 'Toxel', 'type': ['Electric', 'Poison'], 'generation': 8, 'pictureURL': 'https://img.pokemondb.net/sprites/sword-shield/pixel/toxel.png', 'pokemonURL': 'https://pokemondb.net/pokedex/toxel', 'pokemonNumber': '848', 'pokemonweight': '11.0', 'pokemondescription': 'It stores poison in an internal poison sac and secretes that poison through its skin. If you touch this Pokémon, a tingling sensation follows.'}\n",
      "{'name': 'Toxtricity', 'type': ['Electric', 'Poison'], 'generation': 8, 'pictureURL': 'https://img.pokemondb.net/sprites/sword-shield/pixel/toxtricity-low-key.png', 'pokemonURL': 'https://pokemondb.net/pokedex/toxtricity', 'pokemonNumber': '849', 'pokemonweight': '40.0', 'pokemondescription': 'Capable of generating 15,000 volts of electricity, this Pokémon looks down on all that would challenge it.'}\n",
      "{'name': 'Sizzlipede', 'type': ['Fire', 'Bug'], 'generation': 8, 'pictureURL': 'https://img.pokemondb.net/sprites/sword-shield/pixel/sizzlipede.png', 'pokemonURL': 'https://pokemondb.net/pokedex/sizzlipede', 'pokemonNumber': '850', 'pokemonweight': '1.0', 'pokemondescription': 'It stores flammable gas in its body and uses it to generate heat. The yellow sections on its belly get particularly hot.'}\n",
      "{'name': 'Centiskorch', 'type': ['Fire', 'Bug'], 'generation': 8, 'pictureURL': 'https://img.pokemondb.net/sprites/sword-shield/pixel/centiskorch.png', 'pokemonURL': 'https://pokemondb.net/pokedex/centiskorch', 'pokemonNumber': '851', 'pokemonweight': '120.0', 'pokemondescription': 'When it heats up, its body temperature reaches about 1,500 degrees Fahrenheit. It lashes its body like a whip and launches itself at enemies.'}\n",
      "{'name': 'Clobbopus', 'type': ['Fighting'], 'generation': 8, 'pictureURL': 'https://img.pokemondb.net/sprites/sword-shield/pixel/clobbopus.png', 'pokemonURL': 'https://pokemondb.net/pokedex/clobbopus', 'pokemonNumber': '852', 'pokemonweight': '4.0', 'pokemondescription': 'It’s very curious, but its means of investigating things is to try to punch them with its tentacles. The search for food is what brings it onto land.'}\n",
      "{'name': 'Grapploct', 'type': ['Fighting'], 'generation': 8, 'pictureURL': 'https://img.pokemondb.net/sprites/sword-shield/pixel/grapploct.png', 'pokemonURL': 'https://pokemondb.net/pokedex/grapploct', 'pokemonNumber': '853', 'pokemonweight': '39.0', 'pokemondescription': 'A body made up of nothing but muscle makes the grappling moves this Pokémon performs with its tentacles tremendously powerful.'}\n",
      "{'name': 'Sinistea', 'type': ['Ghost'], 'generation': 8, 'pictureURL': 'https://img.pokemondb.net/sprites/sword-shield/pixel/sinistea.png', 'pokemonURL': 'https://pokemondb.net/pokedex/sinistea', 'pokemonNumber': '854', 'pokemonweight': '0.2', 'pokemondescription': 'The swirl pattern in this Pokémon’s body is its weakness. If it gets stirred, the swirl loses its shape, and Sinistea gets dizzy.'}\n",
      "{'name': 'Polteageist', 'type': ['Ghost'], 'generation': 8, 'pictureURL': 'https://img.pokemondb.net/sprites/sword-shield/pixel/polteageist.png', 'pokemonURL': 'https://pokemondb.net/pokedex/polteageist', 'pokemonNumber': '855', 'pokemonweight': '0.4', 'pokemondescription': 'Trainers Polteageist trusts will be allowed to experience its distinctive flavor and aroma firsthand by sampling just a tiny bit of its tea.'}\n",
      "{'name': 'Hatenna', 'type': ['Psychic'], 'generation': 8, 'pictureURL': 'https://img.pokemondb.net/sprites/sword-shield/pixel/hatenna.png', 'pokemonURL': 'https://pokemondb.net/pokedex/hatenna', 'pokemonNumber': '856', 'pokemonweight': '3.4', 'pokemondescription': 'Via the protrusion on its head, it senses other creatures’ emotions. If you don’t have a calm disposition, it will never warm up to you.'}\n",
      "{'name': 'Hattrem', 'type': ['Psychic'], 'generation': 8, 'pictureURL': 'https://img.pokemondb.net/sprites/sword-shield/pixel/hattrem.png', 'pokemonURL': 'https://pokemondb.net/pokedex/hattrem', 'pokemonNumber': '857', 'pokemonweight': '4.8', 'pokemondescription': 'No matter who you are, if you bring strong emotions near this Pokémon, it will silence you violently.'}\n",
      "{'name': 'Hatterene', 'type': ['Psychic', 'Fairy'], 'generation': 8, 'pictureURL': 'https://img.pokemondb.net/sprites/sword-shield/pixel/hatterene.png', 'pokemonURL': 'https://pokemondb.net/pokedex/hatterene', 'pokemonNumber': '858', 'pokemonweight': '5.0', 'pokemondescription': 'It emits psychic power strong enough to cause headaches as a deterrent to the approach of others.'}\n",
      "{'name': 'Impidimp', 'type': ['Dark', 'Fairy'], 'generation': 8, 'pictureURL': 'https://img.pokemondb.net/sprites/sword-shield/pixel/impidimp.png', 'pokemonURL': 'https://pokemondb.net/pokedex/impidimp', 'pokemonNumber': '859', 'pokemonweight': '5.5', 'pokemondescription': 'Through its nose, it sucks in the emanations produced by people and Pokémon when they feel annoyed. It thrives off this negative energy.'}\n",
      "{'name': 'Morgrem', 'type': ['Dark', 'Fairy'], 'generation': 8, 'pictureURL': 'https://img.pokemondb.net/sprites/sword-shield/pixel/morgrem.png', 'pokemonURL': 'https://pokemondb.net/pokedex/morgrem', 'pokemonNumber': '860', 'pokemonweight': '12.5', 'pokemondescription': 'When it gets down on all fours as if to beg for forgiveness, it’s trying to lure opponents in so that it can stab them with its spear-like hair.'}\n",
      "{'name': 'Grimmsnarl', 'type': ['Dark', 'Fairy'], 'generation': 8, 'pictureURL': 'https://img.pokemondb.net/sprites/sword-shield/pixel/grimmsnarl.png', 'pokemonURL': 'https://pokemondb.net/pokedex/grimmsnarl', 'pokemonNumber': '861', 'pokemonweight': '61.0', 'pokemondescription': 'With the hair wrapped around its body helping to enhance its muscles, this Pokémon can overwhelm even Machamp.'}\n",
      "{'name': 'Obstagoon', 'type': ['Dark', 'Normal'], 'generation': 8, 'pictureURL': 'https://img.pokemondb.net/sprites/sword-shield/pixel/obstagoon.png', 'pokemonURL': 'https://pokemondb.net/pokedex/obstagoon', 'pokemonNumber': '862', 'pokemonweight': '46.0', 'pokemondescription': 'Its voice is staggering in volume. Obstagoon has a tendency to take on a threatening posture and shout—this move is known as Obstruct.'}\n",
      "{'name': 'Perrserker', 'type': ['Steel'], 'generation': 8, 'pictureURL': 'https://img.pokemondb.net/sprites/sword-shield/pixel/perrserker.png', 'pokemonURL': 'https://pokemondb.net/pokedex/perrserker', 'pokemonNumber': '863', 'pokemonweight': '28.0', 'pokemondescription': 'What appears to be an iron helmet is actually hardened hair. This Pokémon lives for the thrill of battle.'}\n",
      "{'name': 'Cursola', 'type': ['Ghost'], 'generation': 8, 'pictureURL': 'https://img.pokemondb.net/sprites/sword-shield/pixel/cursola.png', 'pokemonURL': 'https://pokemondb.net/pokedex/cursola', 'pokemonNumber': '864', 'pokemonweight': '0.4', 'pokemondescription': 'Its shell is overflowing with its heightened otherworldly energy. The ectoplasm serves as protection for this Pokémon’s core spirit.'}\n",
      "{'name': \"Sirfetch'd\", 'type': ['Fighting'], 'generation': 8, 'pictureURL': 'https://img.pokemondb.net/sprites/sword-shield/pixel/sirfetchd.png', 'pokemonURL': 'https://pokemondb.net/pokedex/sirfetchd', 'pokemonNumber': '865', 'pokemonweight': '117.0', 'pokemondescription': 'Only Farfetch’d that have survived many battles can attain this evolution. When this Pokémon’s leek withers, it will retire from combat.'}\n",
      "{'name': 'Mr. Rime', 'type': ['Psychic', 'Ice'], 'generation': 8, 'pictureURL': 'https://img.pokemondb.net/sprites/sword-shield/pixel/mr-rime.png', 'pokemonURL': 'https://pokemondb.net/pokedex/mr-rime', 'pokemonNumber': '866', 'pokemonweight': '58.2', 'pokemondescription': 'It’s highly skilled at tap-dancing. It waves its cane of ice in time with its graceful movements.'}\n",
      "{'name': 'Runerigus', 'type': ['Ground', 'Ghost'], 'generation': 8, 'pictureURL': 'https://img.pokemondb.net/sprites/sword-shield/pixel/runerigus.png', 'pokemonURL': 'https://pokemondb.net/pokedex/runerigus', 'pokemonNumber': '867', 'pokemonweight': '66.6', 'pokemondescription': 'A powerful curse was woven into an ancient painting. After absorbing the spirit of a Yamask, the painting began to move.'}\n",
      "{'name': 'Milcery', 'type': ['Fairy'], 'generation': 8, 'pictureURL': 'https://img.pokemondb.net/sprites/sword-shield/pixel/milcery.png', 'pokemonURL': 'https://pokemondb.net/pokedex/milcery', 'pokemonNumber': '868', 'pokemonweight': '0.3', 'pokemondescription': 'This Pokémon was born from sweet-smelling particles in the air. Its body is made of cream.'}\n",
      "{'name': 'Alcremie', 'type': ['Fairy'], 'generation': 8, 'pictureURL': 'https://img.pokemondb.net/sprites/sword-shield/pixel/alcremie.png', 'pokemonURL': 'https://pokemondb.net/pokedex/alcremie', 'pokemonNumber': '869', 'pokemonweight': '0.5', 'pokemondescription': 'The moment it evolved, it took on a bitter flavor. This is because of the way its cells spontaneously shifted during evolution.'}\n",
      "{'name': 'Falinks', 'type': ['Fighting'], 'generation': 8, 'pictureURL': 'https://img.pokemondb.net/sprites/sword-shield/pixel/falinks.png', 'pokemonURL': 'https://pokemondb.net/pokedex/falinks', 'pokemonNumber': '870', 'pokemonweight': '62.0', 'pokemondescription': 'Five of them are troopers, and one is the brass. The brass’s orders are absolute.'}\n",
      "{'name': 'Pincurchin', 'type': ['Electric'], 'generation': 8, 'pictureURL': 'https://img.pokemondb.net/sprites/sword-shield/pixel/pincurchin.png', 'pokemonURL': 'https://pokemondb.net/pokedex/pincurchin', 'pokemonNumber': '871', 'pokemonweight': '1.0', 'pokemondescription': 'It feeds on seaweed, using its teeth to scrape it off rocks. Electric current flows from the tips of its spines.'}\n",
      "{'name': 'Snom', 'type': ['Ice', 'Bug'], 'generation': 8, 'pictureURL': 'https://img.pokemondb.net/sprites/sword-shield/pixel/snom.png', 'pokemonURL': 'https://pokemondb.net/pokedex/snom', 'pokemonNumber': '872', 'pokemonweight': '3.8', 'pokemondescription': 'It spits out thread imbued with a frigid sort of energy and uses it to tie its body to branches, disguising itself as an icicle while it sleeps.'}\n",
      "{'name': 'Frosmoth', 'type': ['Ice', 'Bug'], 'generation': 8, 'pictureURL': 'https://img.pokemondb.net/sprites/sword-shield/pixel/frosmoth.png', 'pokemonURL': 'https://pokemondb.net/pokedex/frosmoth', 'pokemonNumber': '873', 'pokemonweight': '42.0', 'pokemondescription': 'Icy scales fall from its wings like snow as it flies over fields and mountains. The temperature of its wings is less than −290 degrees Fahrenheit.'}\n",
      "{'name': 'Stonjourner', 'type': ['Rock'], 'generation': 8, 'pictureURL': 'https://img.pokemondb.net/sprites/sword-shield/pixel/stonjourner.png', 'pokemonURL': 'https://pokemondb.net/pokedex/stonjourner', 'pokemonNumber': '874', 'pokemonweight': '520.0', 'pokemondescription': 'It stands in grasslands, watching the sun’s descent from zenith to horizon. This Pokémon has a talent for delivering dynamic kicks.'}\n",
      "{'name': 'Eiscue', 'type': ['Ice'], 'generation': 8, 'pictureURL': 'https://img.pokemondb.net/sprites/sword-shield/pixel/eiscue-ice.png', 'pokemonURL': 'https://pokemondb.net/pokedex/eiscue', 'pokemonNumber': '875', 'pokemonweight': '89.0', 'pokemondescription': 'It drifted in on the flow of ocean waters from a frigid place. It keeps its head iced constantly to make sure it stays nice and cold.'}\n",
      "{'name': 'Indeedee', 'type': ['Psychic', 'Normal'], 'generation': 8, 'pictureURL': 'https://img.pokemondb.net/sprites/sword-shield/pixel/indeedee-male.png', 'pokemonURL': 'https://pokemondb.net/pokedex/indeedee', 'pokemonNumber': '876', 'pokemonweight': '28.0', 'pokemondescription': 'It uses the horns on its head to sense the emotions of others. Males will act as valets for those they serve, looking after their every need.'}\n",
      "{'name': 'Morpeko', 'type': ['Electric', 'Dark'], 'generation': 8, 'pictureURL': 'https://img.pokemondb.net/sprites/sword-shield/pixel/morpeko-full-belly.png', 'pokemonURL': 'https://pokemondb.net/pokedex/morpeko', 'pokemonNumber': '877', 'pokemonweight': '3.0', 'pokemondescription': 'As it eats the seeds stored up in its pocket-like pouches, this Pokémon is not just satisfying its constant hunger. It’s also generating electricity.'}\n",
      "{'name': 'Cufant', 'type': ['Steel'], 'generation': 8, 'pictureURL': 'https://img.pokemondb.net/sprites/sword-shield/pixel/cufant.png', 'pokemonURL': 'https://pokemondb.net/pokedex/cufant', 'pokemonNumber': '878', 'pokemonweight': '100.0', 'pokemondescription': 'It digs up the ground with its trunk. It’s also very strong, being able to carry loads of over five tons without any problem at all.'}\n",
      "{'name': 'Copperajah', 'type': ['Steel'], 'generation': 8, 'pictureURL': 'https://img.pokemondb.net/sprites/sword-shield/pixel/copperajah.png', 'pokemonURL': 'https://pokemondb.net/pokedex/copperajah', 'pokemonNumber': '879', 'pokemonweight': '650.0', 'pokemondescription': 'They came over from another region long ago and worked together with humans. Their green skin is resistant to water.'}\n",
      "{'name': 'Dracozolt', 'type': ['Electric', 'Dragon'], 'generation': 8, 'pictureURL': 'https://img.pokemondb.net/sprites/sword-shield/pixel/dracozolt.png', 'pokemonURL': 'https://pokemondb.net/pokedex/dracozolt', 'pokemonNumber': '880', 'pokemonweight': '190.0', 'pokemondescription': 'In ancient times, it was unbeatable thanks to its powerful lower body, but it went extinct anyway after it depleted all its plant-based food sources.'}\n",
      "{'name': 'Arctozolt', 'type': ['Electric', 'Ice'], 'generation': 8, 'pictureURL': 'https://img.pokemondb.net/sprites/sword-shield/pixel/arctozolt.png', 'pokemonURL': 'https://pokemondb.net/pokedex/arctozolt', 'pokemonNumber': '881', 'pokemonweight': '150.0', 'pokemondescription': 'The shaking of its freezing upper half is what generates its electricity. It has a hard time walking around.'}\n",
      "{'name': 'Dracovish', 'type': ['Water', 'Dragon'], 'generation': 8, 'pictureURL': 'https://img.pokemondb.net/sprites/sword-shield/pixel/dracovish.png', 'pokemonURL': 'https://pokemondb.net/pokedex/dracovish', 'pokemonNumber': '882', 'pokemonweight': '215.0', 'pokemondescription': 'Powerful legs and jaws made it the apex predator of its time. Its own overhunting of its prey was what drove it to extinction.'}\n",
      "{'name': 'Arctovish', 'type': ['Water', 'Ice'], 'generation': 8, 'pictureURL': 'https://img.pokemondb.net/sprites/sword-shield/pixel/arctovish.png', 'pokemonURL': 'https://pokemondb.net/pokedex/arctovish', 'pokemonNumber': '883', 'pokemonweight': '175.0', 'pokemondescription': 'Though it’s able to capture prey by freezing its surroundings, it has trouble eating the prey afterward because its mouth is on top of its head.'}\n",
      "{'name': 'Duraludon', 'type': ['Steel', 'Dragon'], 'generation': 8, 'pictureURL': 'https://img.pokemondb.net/sprites/sword-shield/pixel/duraludon.png', 'pokemonURL': 'https://pokemondb.net/pokedex/duraludon', 'pokemonNumber': '884', 'pokemonweight': '40.0', 'pokemondescription': 'Its body resembles polished metal, and it’s both lightweight and strong. The only drawback is that it rusts easily.'}\n",
      "{'name': 'Dreepy', 'type': ['Dragon', 'Ghost'], 'generation': 8, 'pictureURL': 'https://img.pokemondb.net/sprites/sword-shield/pixel/dreepy.png', 'pokemonURL': 'https://pokemondb.net/pokedex/dreepy', 'pokemonNumber': '885', 'pokemonweight': '2.0', 'pokemondescription': 'After being reborn as a ghost Pokémon, Dreepy wanders the areas it used to inhabit back when it was alive in prehistoric seas.'}\n",
      "{'name': 'Drakloak', 'type': ['Dragon', 'Ghost'], 'generation': 8, 'pictureURL': 'https://img.pokemondb.net/sprites/sword-shield/pixel/drakloak.png', 'pokemonURL': 'https://pokemondb.net/pokedex/drakloak', 'pokemonNumber': '886', 'pokemonweight': '11.0', 'pokemondescription': 'It’s capable of flying faster than 120 mph. It battles alongside Dreepy and dotes on them until they successfully evolve.'}\n",
      "{'name': 'Dragapult', 'type': ['Dragon', 'Ghost'], 'generation': 8, 'pictureURL': 'https://img.pokemondb.net/sprites/sword-shield/pixel/dragapult.png', 'pokemonURL': 'https://pokemondb.net/pokedex/dragapult', 'pokemonNumber': '887', 'pokemonweight': '50.0', 'pokemondescription': 'When it isn’t battling, it keeps Dreepy in the holes on its horns. Once a fight starts, it launches the Dreepy like supersonic missiles.'}\n",
      "{'name': 'Zacian', 'type': ['Fairy', 'Steel'], 'generation': 8, 'pictureURL': 'https://img.pokemondb.net/sprites/sword-shield/pixel/zacian-crowned.png', 'pokemonURL': 'https://pokemondb.net/pokedex/zacian', 'pokemonNumber': '888', 'pokemonweight': '355.0', 'pokemondescription': 'Now armed with a weapon it used in ancient times, this Pokémon needs only a single strike to fell even Gigantamax Pokémon.'}\n",
      "{'name': 'Zamazenta', 'type': ['Fighting', 'Steel'], 'generation': 8, 'pictureURL': 'https://img.pokemondb.net/sprites/sword-shield/pixel/zamazenta-crowned.png', 'pokemonURL': 'https://pokemondb.net/pokedex/zamazenta', 'pokemonNumber': '889', 'pokemonweight': '785.0', 'pokemondescription': 'Its ability to deflect any attack led to it being known as the Fighting Master’s Shield. It was feared and respected by all.'}\n",
      "{'name': 'Eternatus', 'type': ['Poison', 'Dragon'], 'generation': 8, 'pictureURL': 'https://img.pokemondb.net/sprites/sword-shield/pixel/eternatus.png', 'pokemonURL': 'https://pokemondb.net/pokedex/eternatus', 'pokemonNumber': '890', 'pokemonweight': '950.0', 'pokemondescription': 'The core on its chest absorbs energy emanating from the lands of the Galar region. This energy is what allows Eternatus to stay active.'}\n",
      "{'name': 'Kubfu', 'type': ['Fighting'], 'generation': 8, 'pictureURL': 'https://img.pokemondb.net/sprites/sword-shield/pixel/kubfu.png', 'pokemonURL': 'https://pokemondb.net/pokedex/kubfu', 'pokemonNumber': '891', 'pokemonweight': '12.0', 'pokemondescription': 'Kubfu trains hard to perfect its moves. The moves it masters will determine which form it takes when it evolves.'}\n",
      "{'name': 'Urshifu', 'type': ['Fighting', 'Dark'], 'generation': 8, 'pictureURL': 'https://img.pokemondb.net/sprites/sword-shield/pixel/urshifu-single-strike.png', 'pokemonURL': 'https://pokemondb.net/pokedex/urshifu', 'pokemonNumber': '892', 'pokemonweight': '105.0', 'pokemondescription': 'People call it the embodiment of rage. It’s said that this Pokémon’s terrifying expression and shout will rid the world of malevolence.'}\n",
      "{'name': 'Zarude', 'type': ['Dark', 'Grass'], 'generation': 8, 'pictureURL': 'https://img.pokemondb.net/sprites/sword-shield/pixel/zarude.png', 'pokemonURL': 'https://pokemondb.net/pokedex/zarude', 'pokemonNumber': '893', 'pokemonweight': '70.0', 'pokemondescription': 'Within dense forests, this Pokémon lives in a pack with others of its kind. It’s incredibly aggressive, and the other Pokémon of the forest fear it.'}\n"
     ]
    }
   ],
   "source": [
    "push.Start(True, True)\n",
    "push.SetSizeMaxRequest(150*1024*1024)\n",
    "pushData(extractedData)\n",
    "push.End(True, True)"
   ]
  },
  {
   "cell_type": "code",
   "execution_count": null,
   "metadata": {},
   "outputs": [],
   "source": []
  },
  {
   "cell_type": "code",
   "execution_count": null,
   "metadata": {},
   "outputs": [],
   "source": []
  }
 ],
 "metadata": {
  "kernelspec": {
   "name": "Python 3.8.2 64-bit",
   "display_name": "Python 3.8.2 64-bit",
   "metadata": {
    "interpreter": {
     "hash": "5edc29c2ed010d6458d71a83433b383a96a8cbd3efe8531bc90c4b8a5b8bcec9"
    }
   }
  },
  "language_info": {
   "codemirror_mode": {
    "name": "ipython",
    "version": 3
   },
   "file_extension": ".py",
   "mimetype": "text/x-python",
   "name": "python",
   "nbconvert_exporter": "python",
   "pygments_lexer": "ipython3",
   "version": "3.8.2-final"
  }
 },
 "nbformat": 4,
 "nbformat_minor": 4
}