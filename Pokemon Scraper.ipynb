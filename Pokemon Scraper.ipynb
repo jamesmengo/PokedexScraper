{
 "cells": [
  {
   "cell_type": "code",
   "execution_count": 25,
   "metadata": {},
   "outputs": [],
   "source": [
    "from coveopush import CoveoPush\n",
    "from coveopush import Document\n",
    "from coveopush import CoveoPermissions\n",
    "from coveopush import CoveoConstants\n",
    "from bs4 import BeautifulSoup\n",
    "import requests\n",
    "import json\n"
   ]
  },
  {
   "cell_type": "code",
   "execution_count": 5,
   "metadata": {},
   "outputs": [],
   "source": [
    "# SCRAPE PokemonDB\n",
    "URL = \"https://pokemondb.net/pokedex/national\"\n",
    "page = requests.get(URL)\n",
    "soup = BeautifulSoup(page.content,'html.parser')\n",
    "cards = soup.find_all('a', class_=\"ent-name\")"
   ]
  },
  {
   "cell_type": "code",
   "execution_count": 62,
   "metadata": {},
   "outputs": [],
   "source": [
    "#Parse HTML Data into Array\n",
    "objectArray = []\n",
    "for card in cards:\n",
    "    newObj = {\n",
    "        \"name\": card.text\n",
    "    }\n",
    "    objectArray.append(newObj)"
   ]
  },
  {
   "cell_type": "code",
   "execution_count": 72,
   "metadata": {},
   "outputs": [],
   "source": [
    "# JSONification of Data\n",
    "pokemonData = json.dumps({\"data\": objectArray})"
   ]
  },
  {
   "cell_type": "code",
   "execution_count": 73,
   "metadata": {},
   "outputs": [],
   "source": [
    "# Push API Configs\n",
    "sourceId = \"jmengpokemoncr4dcczm-tbxxiq7ebhmzxv5zvtrlytknae\"\n",
    "orgId = \"jmengpokemoncr4dcczm\"\n",
    "apiKey = \"xxdb990d89-968f-4639-952d-bb1722255421\"\n",
    "push = CoveoPush.Push(\n",
    "    p_SourceId=sourceId,\n",
    "    p_OrganizationId=orgId,\n",
    "    p_ApiKey=apiKey,\n",
    "    p_Endpoint=CoveoConstants.Constants.PushApiEndpoint.QA_PUSH_API_URL,\n",
    ")"
   ]
  },
  {
   "cell_type": "code",
   "execution_count": 75,
   "metadata": {},
   "outputs": [],
   "source": [
    "# Push Data Configs\n",
    "mydoc = Document(\"file://folder/dummyItem.txt\")\n",
    "mydoc.Title = \"Pokemon Data\"\n",
    "mydoc.SetData(pokemonData)\n",
    "mydoc.FileExtension = \".json\"\n",
    "mydoc.AddMetadata(\"connectortype\", \"CSV\")\n",
    "user_email = \"jmeng@coveo.com\"\n",
    "my_permissions = CoveoPermissions.PermissionIdentity(CoveoConstants.Constants.PermissionIdentityType.User, \"\", user_email)\n",
    "allowAnonymous = True\n",
    "mydoc.SetAllowedAndDeniedPermissions([my_permissions], [], allowAnonymous)\n",
    "push.AddSingleDocument(mydoc)"
   ]
  },
  {
   "cell_type": "code",
   "execution_count": null,
   "metadata": {},
   "outputs": [],
   "source": []
  }
 ],
 "metadata": {
  "kernelspec": {
   "display_name": "Python 3",
   "language": "python",
   "name": "python3"
  },
  "language_info": {
   "codemirror_mode": {
    "name": "ipython",
    "version": 3
   },
   "file_extension": ".py",
   "mimetype": "text/x-python",
   "name": "python",
   "nbconvert_exporter": "python",
   "pygments_lexer": "ipython3",
   "version": "3.8.2"
  }
 },
 "nbformat": 4,
 "nbformat_minor": 4
}
